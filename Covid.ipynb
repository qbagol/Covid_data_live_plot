{
 "cells": [
  {
   "cell_type": "code",
   "execution_count": 42,
   "metadata": {},
   "outputs": [],
   "source": [
    "# https://github.com/mateuszjanczak/koronawirus-api\n",
    "\n",
    "import http.client\n",
    "import datetime as dt\n",
    "import numpy as np\n",
    "import collections\n",
    "import pandas\n",
    "import re\n",
    "from time import sleep\n",
    "from IPython.display import clear_output\n",
    "from matplotlib import pyplot as plt\n",
    "from matplotlib import dates as mdates\n",
    "%matplotlib inline"
   ]
  },
  {
   "cell_type": "code",
   "execution_count": 43,
   "metadata": {},
   "outputs": [],
   "source": [
    "start_date = dt.date(2021, 8, 1)\n",
    "end_date = dt.date(2021, 12, 5)\n",
    "case=\"Active\"   # Confirmed_Total Recovered Deaths New_Infections New_Deaths Active"
   ]
  },
  {
   "cell_type": "code",
   "execution_count": 44,
   "metadata": {},
   "outputs": [],
   "source": [
    "conn = http.client.HTTPSConnection(\"koronawirus-api.herokuapp.com\")\n",
    "\n",
    "def live_plot(data_dict, date, figsize=(7,5), title=''):\n",
    "    clear_output(wait=True)\n",
    "    plt.figure(figsize=figsize)\n",
    "    now = date\n",
    "    then = now + dt.timedelta(days=len(data_dict))\n",
    "    days = mdates.drange(now,then,dt.timedelta(days=1))\n",
    "    plt.gca().xaxis.set_major_formatter(mdates.DateFormatter('%Y-%m-%d'))\n",
    "    plt.gca().xaxis.set_major_locator(mdates.DayLocator(interval=int(np.sqrt(len(data_dict)))))\n",
    "    for label,data in data_dict.items():\n",
    "        plt.plot(days,data,label=label)\n",
    "    plt.title(title)\n",
    "    plt.grid(False)\n",
    "    plt.xlabel('Time')\n",
    "    plt.legend(loc='upper left') \n",
    "    plt.gcf().autofmt_xdate()\n",
    "    plt.show();"
   ]
  },
  {
   "cell_type": "code",
   "execution_count": 45,
   "metadata": {},
   "outputs": [
    {
     "data": {
      "image/png": "[encoded data removed]",
      "text/plain": [
       "<Figure size 504x360 with 1 Axes>"
      ]
     },
     "metadata": {
      "needs_background": "light"
     },
     "output_type": "display_data"
    }
   ],
   "source": [
    "df = pandas.DataFrame(columns=['Date','Confirmed_Total','Recovered','Deaths','New_Infections','New_Deaths','Active'])\n",
    "df_plot = pandas.DataFrame(columns=[])\n",
    "print_status=0\n",
    "first_date=start_date\n",
    "\n",
    "while start_date <= end_date:\n",
    "    date=start_date.strftime(\"%Y-%m-%d\")\n",
    "    start_date += dt.timedelta(days=1) \n",
    "    conn.request(\"GET\", f\"/api/covid19/from/{date}/to/{start_date}/\")\n",
    "    res = conn.getresponse()\n",
    "    data = res.read()\n",
    "    data_string = data.decode(\"utf-8\")\n",
    "    terminator = data_string.index('AgeRanges')\n",
    "    data_string=data_string[:terminator]\n",
    "    m = re.search('\"infections\":(.*),\"deaths\":(.*),\"recovered\":(.*)},\"today\":{\"newInfections\":(.*),\"newDeaths\":(.*),\"death', data_string)\n",
    "    df = df.append({'Date':date, 'Confirmed_Total':int(m.group(1)), 'Recovered':int(m.group(3)), 'Deaths':int(m.group(2)), 'New_Infections':int(m.group(4)), 'New_Deaths':int(m.group(5)), 'Active':int(m.group(1))- int(m.group(3))-int(m.group(2))}, ignore_index=True)\n",
    "    if case==\"Confirmed_Total\":\n",
    "        df_plot= df_plot.append({'Confirmed_Total':int(m.group(1))}, ignore_index=True)\n",
    "        live_plot(df_plot,first_date)\n",
    "    elif case==\"Recovered\":\n",
    "        df_plot= df_plot.append({'Recovered':int(m.group(3))}, ignore_index=True)\n",
    "        live_plot(df_plot,first_date)\n",
    "    elif case==\"Deaths\":\n",
    "        df_plot= df_plot.append({'Deaths':int(m.group(2))}, ignore_index=True)\n",
    "        live_plot(df_plot,first_date)\n",
    "    elif case==\"New_Infections\":\n",
    "        df_plot= df_plot.append({'New_Infections':int(m.group(4))}, ignore_index=True)\n",
    "        live_plot(df_plot,first_date)\n",
    "    elif case==\"New_Deaths\":\n",
    "        df_plot= df_plot.append({'New_Deaths':int(m.group(5))}, ignore_index=True)\n",
    "        live_plot(df_plot,first_date)\n",
    "    elif case==\"Active\":\n",
    "        df_plot= df_plot.append({'Active':int(m.group(1))- int(m.group(3))-int(m.group(2))}, ignore_index=True)\n",
    "        live_plot(df_plot,first_date)\n",
    "    else:\n",
    "        if print_status==0:\n",
    "            print(\"Wrong plot case\")\n",
    "            print_status=1\n",
    "        else:\n",
    "            pass\n",
    "        "
   ]
  },
  {
   "cell_type": "code",
   "execution_count": null,
   "metadata": {},
   "outputs": [],
   "source": []
  }
 ],
 "metadata": {
  "kernelspec": {
   "display_name": "Python 3",
   "language": "python",
   "name": "python3"
  },
  "language_info": {
   "codemirror_mode": {
    "name": "ipython",
    "version": 3
   },
   "file_extension": ".py",
   "mimetype": "text/x-python",
   "name": "python",
   "nbconvert_exporter": "python",
   "pygments_lexer": "ipython3",
   "version": "3.8.3"
  }
 },
 "nbformat": 4,
 "nbformat_minor": 4
}
